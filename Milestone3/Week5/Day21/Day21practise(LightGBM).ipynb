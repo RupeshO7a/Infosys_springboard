{
  "nbformat": 4,
  "nbformat_minor": 0,
  "metadata": {
    "colab": {
      "provenance": []
    },
    "kernelspec": {
      "name": "python3",
      "display_name": "Python 3"
    },
    "language_info": {
      "name": "python"
    }
  },
  "cells": [
    {
      "cell_type": "code",
      "execution_count": 1,
      "metadata": {
        "colab": {
          "base_uri": "https://localhost:8080/"
        },
        "id": "WAD0aqAalUyH",
        "outputId": "f6ae2784-83a8-48ea-a8f3-54b21872268f"
      },
      "outputs": [
        {
          "output_type": "stream",
          "name": "stdout",
          "text": [
            "RMSE: 0.23285525605518215\n"
          ]
        }
      ],
      "source": [
        "import lightgbm as lgb\n",
        "from sklearn.datasets import fetch_california_housing\n",
        "from sklearn.model_selection import train_test_split\n",
        "from sklearn.metrics import mean_squared_error\n",
        "\n",
        "data = fetch_california_housing(as_frame=True)\n",
        "X_train, X_test, y_train, y_test = train_test_split(data.data, data.target, test_size=0.2, random_state=42)\n",
        "train_data = lgb.Dataset(X_train, label=y_train)\n",
        "test_data = lgb.Dataset(X_test, label=y_test, reference=train_data)\n",
        "\n",
        "params = {\n",
        "    'boosting_type': 'gbdt',\n",
        "    'objective': 'regression',\n",
        "    'metric': 'rmse',\n",
        "    'num_leaves': 31,\n",
        "    'learning_rate': 0.05,\n",
        "    'feature_fraction': 0.9,\n",
        "    'bagging_fraction': 0.8,\n",
        "    'bagging_freq': 5,\n",
        "    'verbose': 0\n",
        "}\n",
        "\n",
        "num_rounds = 100\n",
        "model = lgb.train(params, train_data, num_rounds, valid_sets=[test_data])\n",
        "y_pred = model.predict(X_test, num_iteration=model.best_iteration)\n",
        "rmse = mean_squared_error(y_test, y_pred)\n",
        "print(f'RMSE: {rmse}')"
      ]
    },
    {
      "cell_type": "code",
      "source": [
        "from catboost import CatBoostClassifier\n",
        "from sklearn.datasets import fetch_openml\n",
        "from sklearn.model_selection import train_test_split\n",
        "from sklearn.metrics import accuracy_score\n",
        "data = fetch_openml(name='adult', version=2, as_frame=True)\n",
        "X = data.data\n",
        "y = data.target\n",
        "cat_features = ['workclass', 'education', 'marital-status', 'occupation', 'relationship', 'race', 'sex', 'native-country']\n",
        "for col in cat_features:\n",
        "    if X[col].isnull().any():\n",
        "        X[col] = X[col].astype('object').fillna('Unknown')\n",
        "X_train, X_test, y_train, y_test = train_test_split(X, y, test_size=0.2, random_state=42)\n",
        "model = CatBoostClassifier(iterations=1000, learning_rate=0.05, depth=6, verbose=100)\n",
        "model.fit(X_train, y_train, cat_features=cat_features, eval_set=(X_test, y_test))\n",
        "y_pred = model.predict(X_test)\n",
        "accuracy = accuracy_score(y_test, y_pred)\n",
        "print(f'Accuracy: {accuracy}')"
      ],
      "metadata": {
        "colab": {
          "base_uri": "https://localhost:8080/"
        },
        "id": "j7iKMh5nlxpt",
        "outputId": "8134fd31-5a10-4186-cf11-9c1a399fc5cd"
      },
      "execution_count": 5,
      "outputs": [
        {
          "output_type": "stream",
          "name": "stderr",
          "text": [
            "/tmp/ipython-input-4247320175.py:11: SettingWithCopyWarning: \n",
            "A value is trying to be set on a copy of a slice from a DataFrame.\n",
            "Try using .loc[row_indexer,col_indexer] = value instead\n",
            "\n",
            "See the caveats in the documentation: https://pandas.pydata.org/pandas-docs/stable/user_guide/indexing.html#returning-a-view-versus-a-copy\n",
            "  X[col] = X[col].astype('object').fillna('Unknown')\n",
            "/tmp/ipython-input-4247320175.py:11: SettingWithCopyWarning: \n",
            "A value is trying to be set on a copy of a slice from a DataFrame.\n",
            "Try using .loc[row_indexer,col_indexer] = value instead\n",
            "\n",
            "See the caveats in the documentation: https://pandas.pydata.org/pandas-docs/stable/user_guide/indexing.html#returning-a-view-versus-a-copy\n",
            "  X[col] = X[col].astype('object').fillna('Unknown')\n",
            "/tmp/ipython-input-4247320175.py:11: SettingWithCopyWarning: \n",
            "A value is trying to be set on a copy of a slice from a DataFrame.\n",
            "Try using .loc[row_indexer,col_indexer] = value instead\n",
            "\n",
            "See the caveats in the documentation: https://pandas.pydata.org/pandas-docs/stable/user_guide/indexing.html#returning-a-view-versus-a-copy\n",
            "  X[col] = X[col].astype('object').fillna('Unknown')\n"
          ]
        },
        {
          "output_type": "stream",
          "name": "stdout",
          "text": [
            "0:\tlearn: 0.6447736\ttest: 0.6439227\tbest: 0.6439227 (0)\ttotal: 97.6ms\tremaining: 1m 37s\n",
            "100:\tlearn: 0.2907311\ttest: 0.2855474\tbest: 0.2855474 (100)\ttotal: 8.65s\tremaining: 1m 17s\n",
            "200:\tlearn: 0.2786445\ttest: 0.2766110\tbest: 0.2766110 (200)\ttotal: 15.9s\tremaining: 1m 3s\n",
            "300:\tlearn: 0.2693688\ttest: 0.2704353\tbest: 0.2704353 (300)\ttotal: 24s\tremaining: 55.7s\n",
            "400:\tlearn: 0.2652878\ttest: 0.2690773\tbest: 0.2690773 (400)\ttotal: 32.3s\tremaining: 48.2s\n",
            "500:\tlearn: 0.2614034\ttest: 0.2682083\tbest: 0.2681948 (498)\ttotal: 39.5s\tremaining: 39.3s\n",
            "600:\tlearn: 0.2577463\ttest: 0.2673236\tbest: 0.2673236 (600)\ttotal: 48s\tremaining: 31.9s\n",
            "700:\tlearn: 0.2547281\ttest: 0.2670082\tbest: 0.2670082 (700)\ttotal: 56.3s\tremaining: 24s\n",
            "800:\tlearn: 0.2516728\ttest: 0.2667126\tbest: 0.2666970 (798)\ttotal: 1m 3s\tremaining: 15.8s\n",
            "900:\tlearn: 0.2489046\ttest: 0.2665288\tbest: 0.2665009 (874)\ttotal: 1m 12s\tremaining: 7.92s\n",
            "999:\tlearn: 0.2464334\ttest: 0.2662221\tbest: 0.2662221 (999)\ttotal: 1m 19s\tremaining: 0us\n",
            "\n",
            "bestTest = 0.2662221393\n",
            "bestIteration = 999\n",
            "\n",
            "Accuracy: 0.8801310267171666\n"
          ]
        }
      ]
    },
    {
      "cell_type": "code",
      "metadata": {
        "colab": {
          "base_uri": "https://localhost:8080/"
        },
        "id": "cfe40ea7",
        "outputId": "3d09edf2-e7bd-4e71-8ee6-4282334de338"
      },
      "source": [
        "!pip install catboost"
      ],
      "execution_count": 3,
      "outputs": [
        {
          "output_type": "stream",
          "name": "stdout",
          "text": [
            "Collecting catboost\n",
            "  Downloading catboost-1.2.8-cp312-cp312-manylinux2014_x86_64.whl.metadata (1.2 kB)\n",
            "Requirement already satisfied: graphviz in /usr/local/lib/python3.12/dist-packages (from catboost) (0.21)\n",
            "Requirement already satisfied: matplotlib in /usr/local/lib/python3.12/dist-packages (from catboost) (3.10.0)\n",
            "Requirement already satisfied: numpy<3.0,>=1.16.0 in /usr/local/lib/python3.12/dist-packages (from catboost) (2.0.2)\n",
            "Requirement already satisfied: pandas>=0.24 in /usr/local/lib/python3.12/dist-packages (from catboost) (2.2.2)\n",
            "Requirement already satisfied: scipy in /usr/local/lib/python3.12/dist-packages (from catboost) (1.16.2)\n",
            "Requirement already satisfied: plotly in /usr/local/lib/python3.12/dist-packages (from catboost) (5.24.1)\n",
            "Requirement already satisfied: six in /usr/local/lib/python3.12/dist-packages (from catboost) (1.17.0)\n",
            "Requirement already satisfied: python-dateutil>=2.8.2 in /usr/local/lib/python3.12/dist-packages (from pandas>=0.24->catboost) (2.9.0.post0)\n",
            "Requirement already satisfied: pytz>=2020.1 in /usr/local/lib/python3.12/dist-packages (from pandas>=0.24->catboost) (2025.2)\n",
            "Requirement already satisfied: tzdata>=2022.7 in /usr/local/lib/python3.12/dist-packages (from pandas>=0.24->catboost) (2025.2)\n",
            "Requirement already satisfied: contourpy>=1.0.1 in /usr/local/lib/python3.12/dist-packages (from matplotlib->catboost) (1.3.3)\n",
            "Requirement already satisfied: cycler>=0.10 in /usr/local/lib/python3.12/dist-packages (from matplotlib->catboost) (0.12.1)\n",
            "Requirement already satisfied: fonttools>=4.22.0 in /usr/local/lib/python3.12/dist-packages (from matplotlib->catboost) (4.60.0)\n",
            "Requirement already satisfied: kiwisolver>=1.3.1 in /usr/local/lib/python3.12/dist-packages (from matplotlib->catboost) (1.4.9)\n",
            "Requirement already satisfied: packaging>=20.0 in /usr/local/lib/python3.12/dist-packages (from matplotlib->catboost) (25.0)\n",
            "Requirement already satisfied: pillow>=8 in /usr/local/lib/python3.12/dist-packages (from matplotlib->catboost) (11.3.0)\n",
            "Requirement already satisfied: pyparsing>=2.3.1 in /usr/local/lib/python3.12/dist-packages (from matplotlib->catboost) (3.2.4)\n",
            "Requirement already satisfied: tenacity>=6.2.0 in /usr/local/lib/python3.12/dist-packages (from plotly->catboost) (8.5.0)\n",
            "Downloading catboost-1.2.8-cp312-cp312-manylinux2014_x86_64.whl (99.2 MB)\n",
            "\u001b[2K   \u001b[90m━━━━━━━━━━━━━━━━━━━━━━━━━━━━━━━━━━━━━━━━\u001b[0m \u001b[32m99.2/99.2 MB\u001b[0m \u001b[31m9.1 MB/s\u001b[0m eta \u001b[36m0:00:00\u001b[0m\n",
            "\u001b[?25hInstalling collected packages: catboost\n",
            "Successfully installed catboost-1.2.8\n"
          ]
        }
      ]
    }
  ]
}